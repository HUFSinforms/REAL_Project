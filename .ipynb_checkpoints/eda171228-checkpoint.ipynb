{
 "cells": [
  {
   "cell_type": "code",
   "execution_count": 1,
   "metadata": {},
   "outputs": [
    {
     "name": "stdout",
     "output_type": "stream",
     "text": [
      "Using matplotlib backend: TkAgg\n",
      "Populating the interactive namespace from numpy and matplotlib\n"
     ]
    },
    {
     "name": "stderr",
     "output_type": "stream",
     "text": [
      "C:\\ProgramData\\Anaconda3\\envs\\py34\\lib\\site-packages\\IPython\\core\\magics\\pylab.py:161: UserWarning: pylab import has clobbered these variables: ['info', 'unique', 'datetime', 'types', 'test']\n",
      "`%matplotlib` prevents importing * from pylab and numpy\n",
      "  \"\\n`%matplotlib` prevents importing * from pylab and numpy\"\n"
     ]
    }
   ],
   "source": [
    "import pandas as pd\n",
    "import time,datetime\n",
    "import numpy as np\n",
    "import glob\n",
    "from pandas import *\n",
    "import scipy.optimize\n",
    "%pylab\n",
    "%matplotlib inline\n",
    "\n",
    "#timeseries data\n",
    "all_data=pd.read_csv('Timeseries_data_SP500.csv')\n",
    "date_list=list(set(list(all_data['DATE'])))\n",
    "for i in range(len(date_list)):\n",
    "    ak=date_list[i]\n",
    "    date_list[i]=ak[6:]+str('-')+ak[:2]+'-'+ak[3:5]\n",
    "date_list.sort()\n",
    "all_data['DATE']=pd.to_datetime(all_data['DATE'])\n",
    "all_data=all_data.rename(columns={'NAME':'name','DATE':'date','SEDOL':'sedol','SECTOR':'sector','BETA':'beta','ALPHA_SCORE':'as','BENCH_WEIGHT':'bw',\"MCAP_Q\":'mq'})\n",
    "\n",
    "dic_data = {k: v for k, v in all_data.groupby('date')}"
   ]
  },
  {
   "cell_type": "code",
   "execution_count": 2,
   "metadata": {
    "collapsed": true
   },
   "outputs": [],
   "source": [
    "#risk:cov_mat\n",
    "risk_data=pd.read_csv('cov_mat_2007-01-03.csv')\n",
    "risk_sedol=risk_data['ROW_INDEX'].unique().tolist()\n",
    "risk_mat = np.zeros((len(risk_sedol),len(risk_sedol)))\n",
    "risk_mat[np.triu_indices(len(risk_sedol), 0)] = list(risk_data['VALUE'])\n",
    "irows,icols = np.triu_indices(len(risk_sedol),0)\n",
    "risk_mat[icols,irows]=risk_mat[irows,icols]"
   ]
  },
  {
   "cell_type": "code",
   "execution_count": 5,
   "metadata": {},
   "outputs": [
    {
     "name": "stderr",
     "output_type": "stream",
     "text": [
      "C:\\ProgramData\\Anaconda3\\envs\\py34\\lib\\site-packages\\numpy\\core\\numeric.py:301: FutureWarning: in the future, full((492, 492), 10000) will return an array of dtype('int32')\n",
      "  format(shape, fill_value, array(fill_value).dtype), FutureWarning)\n"
     ]
    },
    {
     "name": "stdout",
     "output_type": "stream",
     "text": [
      "Starting pp with 4 workers\n"
     ]
    },
    {
     "name": "stderr",
     "output_type": "stream",
     "text": [
      "<ipython-input-5-28d01df6da88>:95: SyntaxWarning: name 'r_a' is assigned to before global declaration\n",
      "  global r_a\n"
     ]
    }
   ],
   "source": [
    "import class_informs as inform\n",
    "import pickle\n",
    "import random\n",
    "import heapq\n",
    "import pp\n",
    "import sys\n",
    "\n",
    "sam = 2\n",
    "lambda_ = 3\n",
    "ngen = 5\n",
    "as_ = dic_data[Timestamp('2007-01-03 00:00:00')]['as']\n",
    "dim = len(dic_data[Timestamp('2007-01-03 00:00:00')])\n",
    "gen = 0\n",
    "\n",
    "prob = [0]*dim\n",
    "prob_car = [0]*20\n",
    "r_a = []\n",
    "population = []\n",
    "selected = []\n",
    "\n",
    "f2 = open('pic/risk_sedol.txt', 'rb')\n",
    "sedol = pickle.load(f2)\n",
    "ex = inform.informs(10000)\n",
    "f8 = open('pic/risk_mat.txt', 'rb')\n",
    "risk_mat = pickle.load(f8)\n",
    "ex.set_omega(risk_mat)\n",
    "\n",
    "ppservers = ()\n",
    "if len(sys.argv) > 1:\n",
    "    ncpus = 4\n",
    "    job_server = pp.Server(ncpus, ppservers=ppservers)\n",
    "else:\n",
    "    job_server = pp.Server(ppservers=ppservers)\n",
    "print (\"Starting pp with\", job_server.get_ncpus(), \"workers\")\n",
    "    \n",
    "def cp1(candidate, ex, sedol, prob_car) :\n",
    "    ex.set_con(cons=candidate)\n",
    "    try :\n",
    "        new_list = []\n",
    "        sol = ex.solve(0.01)[0]\n",
    "        for k in sedol :\n",
    "            new_list.append(sol[k])\n",
    "    except :\n",
    "        print('no solution error')\n",
    "        candidate = random.choice(prob_car)\n",
    "        cp1(candidate, ex, sedol, prob_car)\n",
    "    return new_list\n",
    "\n",
    "def generate():\n",
    "    \n",
    "    population = []\n",
    "    r_a = []\n",
    "    candi__ = []\n",
    "\n",
    "    print(\"asdasdasddada\")\n",
    "    for i in range(lambda_) :\n",
    "        candi = []\n",
    "        candi_ = []\n",
    "        car = 50\n",
    "        if gen == 0 :\n",
    "            candi = random.sample(range(dim), car)\n",
    "        else :\n",
    "            if i%2 ==0 :\n",
    "                car = random.choice(prob_car)\n",
    "            for j in range(dim) :\n",
    "                if random.random() <= prob[j] :\n",
    "                    candi.append(j)\n",
    "            if len(candi)>car :\n",
    "                candi = random.sample(candi, car)\n",
    "            elif lan(candi) <car :\n",
    "                large = heapq.nlargest(car, prob)\n",
    "                candi_ = [prob.index(k) for k in large]\n",
    "                candi += random.sample(set(candi_)-set(candi), car-len(candi))\n",
    "        candi__.append(candi)\n",
    "\n",
    "    inputs = tuple(candi__)\n",
    "    print(\"zczczxczxcxczxcz\")\n",
    "    for input in inputs :\n",
    "        population.append(job_server.submit(cp1, (input, ex, sedol, prob_car), modules=(\"random\", )))\n",
    "\n",
    "    job_server.wait()\n",
    "    \n",
    "    print(\"bbbbbbbbbbbbbbbbbbbb\")\n",
    "    \n",
    "    for po in population :\n",
    "        print(po())\n",
    "        \n",
    "    print('aaaaaaaaaaaaaaaaaaaa')\n",
    "    \n",
    "#   각 포트폴리오의 risk, as의 합 계산\n",
    "    for po in population :\n",
    "        s_rr = np.dot(po(), risk_mat)\n",
    "        s_r = np.dot(s_rr, po())\n",
    "        s_a = np.dot(po(), as_)\n",
    "        global r_a\n",
    "        r_a.append(s_r-s_a)\n",
    "        \n",
    "        \n",
    "    asdasds\n",
    "    return population\n",
    "        \n",
    "\n",
    "def update(population) :\n",
    "    selected = []\n",
    "    small = heapq.nsmallest(sam, r_a)\n",
    "    print('this is minimum object value')\n",
    "    print(min(r_a))\n",
    "    \n",
    "    selected = [population[r_a.index(i)] for i in small]\n",
    "\n",
    "    asdasdsadasd\n",
    "    \n",
    "    for i in range(len(selected)) :\n",
    "        car_sel = 0\n",
    "        for j in range(dim) :\n",
    "            if selected[i]()[j] > 0 :\n",
    "                prob[j] += 1\n",
    "                car_sel += 1\n",
    "        prob_car.append(car_sel)\n",
    "        \n",
    "    global gen\n",
    "    gen += 1"
   ]
  },
  {
   "cell_type": "code",
   "execution_count": null,
   "metadata": {},
   "outputs": [
    {
     "name": "stdout",
     "output_type": "stream",
     "text": [
      "asdasdasddada\n",
      "zczczxczxcxczxcz\n"
     ]
    }
   ],
   "source": [
    "for i in range(ngen) :\n",
    "    population = generate()\n",
    "    update(population)"
   ]
  }
 ],
 "metadata": {
  "kernelspec": {
   "display_name": "Python 3",
   "language": "python",
   "name": "python3"
  },
  "language_info": {
   "codemirror_mode": {
    "name": "ipython",
    "version": 3
   },
   "file_extension": ".py",
   "mimetype": "text/x-python",
   "name": "python",
   "nbconvert_exporter": "python",
   "pygments_lexer": "ipython3",
   "version": "3.4.5"
  }
 },
 "nbformat": 4,
 "nbformat_minor": 2
}
