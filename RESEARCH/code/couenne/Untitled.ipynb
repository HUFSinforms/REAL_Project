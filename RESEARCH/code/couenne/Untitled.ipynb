{
 "cells": [
  {
   "cell_type": "code",
   "execution_count": 1,
   "metadata": {
    "collapsed": true
   },
   "outputs": [],
   "source": [
    "from __future__ import division\n",
    "from pyomo.environ import *\n",
    "model = ConcreteModel()\n",
    "model.x = Var([1,2], domain=NonNegativeReals)\n",
    "model.OBJ = Objective(expr = 2*model.x[1] + 3*model.x[2])\n",
    "model.Constraint1 = Constraint(expr = 3*model.x[1] + 4*model.x[2] >= 1)"
   ]
  },
  {
   "cell_type": "code",
   "execution_count": 2,
   "metadata": {},
   "outputs": [
    {
     "data": {
      "text/plain": [
       "<pyomo.core.base.PyomoModel.ConcreteModel at 0x10e015318>"
      ]
     },
     "execution_count": 2,
     "metadata": {},
     "output_type": "execute_result"
    }
   ],
   "source": [
    "model"
   ]
  },
  {
   "cell_type": "code",
   "execution_count": 1,
   "metadata": {
    "collapsed": true
   },
   "outputs": [],
   "source": [
    "from pyomo.environ import *\n",
    "from pyomo.opt import SolverFactory\n",
    "model = AbstractModel()\n",
    "\n",
    "model.p1 = Param();\n",
    "model.p2 = Param();\n",
    "model.p3 = Param();\n",
    "model.p4 = Param();\n",
    "model.p5 = Param();\n",
    "model.p6 = Param();\n",
    "model.p7 = Param();\n",
    "model.p8 = Param();\n",
    "model.p9 = Param();\n",
    "model.ps = Param();\n",
    "\n",
    "model.f = Var(initialize = 20, within=PositiveReals)\n",
    "model.d = Var(initialize = 20, within=PositiveReals)\n",
    "model.b = Var(initialize = 20, within=PositiveReals)\n",
    "\n",
    "model.hf = Var(initialize = 20, within=PositiveReals)\n",
    "model.hd = Var(initialize = 20, within=PositiveReals)\n",
    "model.hb = Var(initialize = 20, within=PositiveReals)\n",
    "\n",
    "model.br = Var(initialize=1.5, within=PositiveReals)\n",
    "\n",
    "model.c = Var(initialize=500000, within=PositiveReals)\n",
    "\n",
    "\n",
    "def obj_rule(amodel):\n",
    "    return 10*amodel.hb + amodel.hd + amodel.hf\n",
    "model.obj = Objective(rule=obj_rule, sense=maximize)\n",
    "\n",
    "def f_bal_rule(amodel):\n",
    "    return amodel.f == amodel.p1*amodel.br \\\n",
    "        *(amodel.p2/10.0*amodel.f + amodel.p3*amodel.d) \\\n",
    "        -amodel.hf\n",
    "model.f_bal = Constraint(rule=f_bal_rule)\n",
    "\n",
    "def d_bal_rule(amodel):\n",
    "    return amodel.d == amodel.p4*amodel.d \\\n",
    "        + amodel.p5/2.0*amodel.f - amodel.hd\n",
    "model.d_bal = Constraint(rule=d_bal_rule)\n",
    "\n",
    "def b_bal_rule(amodel):\n",
    "    return amodel.b == amodel.p6*amodel.b \\\n",
    "        + amodel.p5/2.0*amodel.f - amodel.hb\n",
    "model.b_bal = Constraint(rule=b_bal_rule)\n",
    "\n",
    "def food_cons_rule(amodel):\n",
    "    return amodel.c == amodel.p7*amodel.b \\\n",
    "        + amodel.p8*amodel.d + amodel.p9*amodel.f\n",
    "model.food_cons = Constraint(rule=food_cons_rule)\n",
    "\n",
    "def supply_rule(amodel):\n",
    "    return amodel.c <= amodel.ps\n",
    "model.supply = Constraint(rule=supply_rule)\n",
    "\n",
    "def birth_rule(amodel):\n",
    "    return amodel.br == 1.1 + \\\n",
    "        0.8*(amodel.ps - amodel.c)/amodel.ps\n",
    "model.birth = Constraint(rule=birth_rule)\n",
    "\n",
    "def minbuck_rule(amodel):\n",
    "    return amodel.b >= 1.0/5.0*(0.4*amodel.f + amodel.d)\n",
    "model.minbuck = Constraint(rule=minbuck_rule)"
   ]
  },
  {
   "cell_type": "code",
   "execution_count": 2,
   "metadata": {
    "scrolled": false
   },
   "outputs": [
    {
     "name": "stdout",
     "output_type": "stream",
     "text": [
      "WARNING: \"[base]/site-packages/pyomo/solvers/plugins/solvers/CPLEX.py\", 232, _default_executable\n",
      "\tCould not locate the 'cplex' executable, which is required for solver cplex\n"
     ]
    },
    {
     "ename": "ApplicationError",
     "evalue": "No executable found for solver 'cplex'",
     "output_type": "error",
     "traceback": [
      "\u001b[0;31m---------------------------------------------------------------------------\u001b[0m",
      "\u001b[0;31mApplicationError\u001b[0m                          Traceback (most recent call last)",
      "\u001b[0;32m<ipython-input-2-ee6d3c4c1456>\u001b[0m in \u001b[0;36m<module>\u001b[0;34m()\u001b[0m\n\u001b[1;32m     14\u001b[0m \u001b[0;34m\u001b[0m\u001b[0m\n\u001b[1;32m     15\u001b[0m     \u001b[0;32mwith\u001b[0m \u001b[0mSolverFactory\u001b[0m\u001b[0;34m(\u001b[0m\u001b[0;34m\"cplex\"\u001b[0m\u001b[0;34m)\u001b[0m \u001b[0;32mas\u001b[0m \u001b[0mopt\u001b[0m\u001b[0;34m:\u001b[0m\u001b[0;34m\u001b[0m\u001b[0m\n\u001b[0;32m---> 16\u001b[0;31m         \u001b[0mresults\u001b[0m \u001b[0;34m=\u001b[0m \u001b[0mopt\u001b[0m\u001b[0;34m.\u001b[0m\u001b[0msolve\u001b[0m\u001b[0;34m(\u001b[0m\u001b[0mmodel\u001b[0m\u001b[0;34m)\u001b[0m\u001b[0;34m\u001b[0m\u001b[0m\n\u001b[0m\u001b[1;32m     17\u001b[0m         \u001b[0;32mif\u001b[0m \u001b[0mresults\u001b[0m\u001b[0;34m.\u001b[0m\u001b[0msolver\u001b[0m\u001b[0;34m.\u001b[0m\u001b[0mtermination_condition\u001b[0m \u001b[0;34m!=\u001b[0m            \u001b[0mTerminationCondition\u001b[0m\u001b[0;34m.\u001b[0m\u001b[0moptimal\u001b[0m\u001b[0;34m:\u001b[0m\u001b[0;34m\u001b[0m\u001b[0m\n\u001b[1;32m     18\u001b[0m             \u001b[0mprint\u001b[0m\u001b[0;34m(\u001b[0m\u001b[0;34m\"All board solutions have been found\"\u001b[0m\u001b[0;34m)\u001b[0m\u001b[0;34m\u001b[0m\u001b[0m\n",
      "\u001b[0;32m~/anaconda3/lib/python3.6/site-packages/pyomo/opt/base/solvers.py\u001b[0m in \u001b[0;36msolve\u001b[0;34m(self, *args, **kwds)\u001b[0m\n\u001b[1;32m    536\u001b[0m         \u001b[0;34m\"\"\" Solve the problem \"\"\"\u001b[0m\u001b[0;34m\u001b[0m\u001b[0m\n\u001b[1;32m    537\u001b[0m \u001b[0;34m\u001b[0m\u001b[0m\n\u001b[0;32m--> 538\u001b[0;31m         \u001b[0mself\u001b[0m\u001b[0;34m.\u001b[0m\u001b[0mavailable\u001b[0m\u001b[0;34m(\u001b[0m\u001b[0mexception_flag\u001b[0m\u001b[0;34m=\u001b[0m\u001b[0;32mTrue\u001b[0m\u001b[0;34m)\u001b[0m\u001b[0;34m\u001b[0m\u001b[0m\n\u001b[0m\u001b[1;32m    539\u001b[0m         \u001b[0;31m#\u001b[0m\u001b[0;34m\u001b[0m\u001b[0;34m\u001b[0m\u001b[0m\n\u001b[1;32m    540\u001b[0m         \u001b[0;31m# If the inputs are models, then validate that they have been\u001b[0m\u001b[0;34m\u001b[0m\u001b[0;34m\u001b[0m\u001b[0m\n",
      "\u001b[0;32m~/anaconda3/lib/python3.6/site-packages/pyomo/opt/solver/ilmcmd.py\u001b[0m in \u001b[0;36mavailable\u001b[0;34m(self, exception_flag)\u001b[0m\n\u001b[1;32m     34\u001b[0m         \u001b[0;32mif\u001b[0m \u001b[0mself\u001b[0m\u001b[0;34m.\u001b[0m\u001b[0m_assert_available\u001b[0m\u001b[0;34m:\u001b[0m\u001b[0;34m\u001b[0m\u001b[0m\n\u001b[1;32m     35\u001b[0m             \u001b[0;32mreturn\u001b[0m \u001b[0;32mTrue\u001b[0m\u001b[0;34m\u001b[0m\u001b[0m\n\u001b[0;32m---> 36\u001b[0;31m         \u001b[0;32mif\u001b[0m \u001b[0;32mnot\u001b[0m \u001b[0mpyomo\u001b[0m\u001b[0;34m.\u001b[0m\u001b[0mopt\u001b[0m\u001b[0;34m.\u001b[0m\u001b[0msolver\u001b[0m\u001b[0;34m.\u001b[0m\u001b[0mshellcmd\u001b[0m\u001b[0;34m.\u001b[0m\u001b[0mSystemCallSolver\u001b[0m\u001b[0;34m.\u001b[0m\u001b[0mavailable\u001b[0m\u001b[0;34m(\u001b[0m\u001b[0mself\u001b[0m\u001b[0;34m,\u001b[0m \u001b[0mexception_flag\u001b[0m\u001b[0;34m)\u001b[0m\u001b[0;34m:\u001b[0m\u001b[0;34m\u001b[0m\u001b[0m\n\u001b[0m\u001b[1;32m     37\u001b[0m             \u001b[0;32mreturn\u001b[0m \u001b[0;32mFalse\u001b[0m\u001b[0;34m\u001b[0m\u001b[0m\n\u001b[1;32m     38\u001b[0m         \u001b[0mexecutable\u001b[0m \u001b[0;34m=\u001b[0m \u001b[0mpyutilib\u001b[0m\u001b[0;34m.\u001b[0m\u001b[0mservices\u001b[0m\u001b[0;34m.\u001b[0m\u001b[0mregistered_executable\u001b[0m\u001b[0;34m(\u001b[0m\u001b[0;34m\"ilmlist\"\u001b[0m\u001b[0;34m)\u001b[0m\u001b[0;34m\u001b[0m\u001b[0m\n",
      "\u001b[0;32m~/anaconda3/lib/python3.6/site-packages/pyomo/opt/solver/shellcmd.py\u001b[0m in \u001b[0;36mavailable\u001b[0;34m(self, exception_flag)\u001b[0m\n\u001b[1;32m    120\u001b[0m             \u001b[0;32mif\u001b[0m \u001b[0mexception_flag\u001b[0m\u001b[0;34m:\u001b[0m\u001b[0;34m\u001b[0m\u001b[0m\n\u001b[1;32m    121\u001b[0m                 \u001b[0mmsg\u001b[0m \u001b[0;34m=\u001b[0m \u001b[0;34m\"No executable found for solver '%s'\"\u001b[0m\u001b[0;34m\u001b[0m\u001b[0m\n\u001b[0;32m--> 122\u001b[0;31m                 \u001b[0;32mraise\u001b[0m \u001b[0mApplicationError\u001b[0m\u001b[0;34m(\u001b[0m\u001b[0mmsg\u001b[0m \u001b[0;34m%\u001b[0m \u001b[0mself\u001b[0m\u001b[0;34m.\u001b[0m\u001b[0mname\u001b[0m\u001b[0;34m)\u001b[0m\u001b[0;34m\u001b[0m\u001b[0m\n\u001b[0m\u001b[1;32m    123\u001b[0m             \u001b[0;32mreturn\u001b[0m \u001b[0;32mFalse\u001b[0m\u001b[0;34m\u001b[0m\u001b[0m\n\u001b[1;32m    124\u001b[0m         \u001b[0;32mreturn\u001b[0m \u001b[0;32mTrue\u001b[0m\u001b[0;34m\u001b[0m\u001b[0m\n",
      "\u001b[0;31mApplicationError\u001b[0m: No executable found for solver 'cplex'"
     ]
    }
   ],
   "source": [
    "from pyomo.opt import (SolverFactory,\n",
    "                       TerminationCondition)\n",
    "from abstract1 import (create_sudoku_model,\n",
    "                    print_solution,\n",
    "                    add_integer_cut)\n",
    "\n",
    "# define the board\n",
    "board = [(1,1,5),(1,2,3),(1,5,7), \\\n",
    "         (2,1,6),(2,4,1),(2,5,9),(2,6,5), \\\n",
    "         (3,2,9),(3,3,8),(3,8,6), \\\n",
    "         (4,1,8),(4,5,6),(4,9,3), \\\n",
    "         (5,1,4),(5,4,8),(5,6,3),(5,9,1), \\\n",
    "         (6,1,7),(6,5,2),(6,9,6), \\\n",
    "         (7,2,6),(7,7,2),(7,8,8), \\\n",
    "         (8,4,4),(8,5,1),(8,6,9),(8,9,5), \\\n",
    "         (9,5,8),(9,8,7),(9,9,9)]\n",
    "\n",
    "model = create_sudoku_model(board)\n",
    "\n",
    "solution_count = 0\n",
    "while 1:\n",
    "\n",
    "    with SolverFactory(\"cplex\") as opt:\n",
    "        results = opt.solve(model)\n",
    "        if results.solver.termination_condition != \\\n",
    "           TerminationCondition.optimal:\n",
    "            print(\"All board solutions have been found\")\n",
    "            break\n",
    "\n",
    "    solution_count += 1\n",
    "\n",
    "    add_integer_cut(model)\n",
    "\n",
    "    print(\"Solution #%d\" % (solution_count))\n",
    "    print_solution(model)"
   ]
  },
  {
   "cell_type": "code",
   "execution_count": 3,
   "metadata": {},
   "outputs": [
    {
     "name": "stderr",
     "output_type": "stream",
     "text": [
      "usage: ipykernel_launcher.py [-h] --model_name MODEL_NAME --data DATA\n",
      "ipykernel_launcher.py: error: the following arguments are required: --model_name/-m, --data/-d\n"
     ]
    },
    {
     "ename": "SystemExit",
     "evalue": "2",
     "output_type": "error",
     "traceback": [
      "An exception has occurred, use %tb to see the full traceback.\n",
      "\u001b[0;31mSystemExit\u001b[0m\u001b[0;31m:\u001b[0m 2\n"
     ]
    },
    {
     "name": "stderr",
     "output_type": "stream",
     "text": [
      "/Users/yerin/anaconda3/lib/python3.6/site-packages/IPython/core/interactiveshell.py:2870: UserWarning: To exit: use 'exit', 'quit', or Ctrl-D.\n",
      "  warn(\"To exit: use 'exit', 'quit', or Ctrl-D.\", stacklevel=1)\n"
     ]
    }
   ],
   "source": [
    "#!/usr/bin/env python2\n",
    "# -*- coding: utf-8 -*-\n",
    "\n",
    "import argparse\n",
    "import os.path\n",
    "import importlib\n",
    "\n",
    "from pyomo.environ import *\n",
    "from pyomo.opt import SolverFactory\n",
    "\n",
    "def instance_factory(abstract_model_name, path_of_parameters):\n",
    "    module_of_model = importlib.import_module(abstract_model_name)\n",
    "    model = module_of_model.model\n",
    "\n",
    "    data = DataPortal()\n",
    "\n",
    "    path_of_contacts = os.path.join(path_of_parameters, 'contacts.tab')\n",
    "    path_of_vertices = os.path.join(path_of_parameters, 'vertices.tab')\n",
    "    path_of_edges = os.path.join(path_of_parameters, 'edges.tab')\n",
    "    path_of_boundaries = os.path.join(path_of_parameters, 'boundaries.tab')\n",
    "\n",
    "\n",
    "    data.load(filename=str(path_of_contacts),\n",
    "              param=(model.xs_of_contacts, model.ys_of_contacts),\n",
    "              index=model.contacts)\n",
    "    data.load(filename=str(path_of_vertices),\n",
    "              param=(model.xs_of_vertices, model.ys_of_vertices),\n",
    "              index=model.vertices)\n",
    "    data.load(filename=str(path_of_edges),\n",
    "              param=(model.as_of_edges, model.bs_of_edges, model.cs_of_edges),\n",
    "              index=model.edges)\n",
    "    data.load(filename=str(path_of_boundaries),\n",
    "              param=(model.as_of_boundaries, model.bs_of_boundaries, model.cs_of_boundaries),\n",
    "              index=model.boundaries)\n",
    "\n",
    "    return model.create_instance(data)\n",
    "\n",
    "def solve_instance(instance):\n",
    "    solver = SolverFactory('couenne')\n",
    "\n",
    "    results = solver.solve(instance, tee=True)\n",
    "    instance.solutions.load_from(results)\n",
    "\n",
    "    return instance\n",
    "\n",
    "if __name__ == '__main__':\n",
    "    parser = argparse.ArgumentParser(description='Optimizes the pose of an object inside constraints')\n",
    "    parser.add_argument('--model_name', '-m', type=str, required=True)\n",
    "    parser.add_argument('--data', '-d',\n",
    "                        type=str, required=True,\n",
    "                        help='The path to the folder containing the two .tab files.')\n",
    "\n",
    "    args = parser.parse_args()\n",
    "\n",
    "    instance = instance_factory(args.model_name, args.data)\n",
    "    results = solve_instance(instance)\n",
    "    results.display()"
   ]
  },
  {
   "cell_type": "code",
   "execution_count": 10,
   "metadata": {},
   "outputs": [
    {
     "name": "stdout",
     "output_type": "stream",
     "text": [
      "WARNING: \"[base]/site-packages/pyomo/solvers/plugins/solvers/CPLEX.py\", 232, _default_executable\n",
      "\tCould not locate the 'cplex' executable, which is required for solver cplex\n"
     ]
    },
    {
     "ename": "ApplicationError",
     "evalue": "No executable found for solver 'cplex'",
     "output_type": "error",
     "traceback": [
      "\u001b[0;31m---------------------------------------------------------------------------\u001b[0m",
      "\u001b[0;31mApplicationError\u001b[0m                          Traceback (most recent call last)",
      "\u001b[0;32m<ipython-input-10-6c722008b30a>\u001b[0m in \u001b[0;36m<module>\u001b[0;34m()\u001b[0m\n\u001b[1;32m      2\u001b[0m \u001b[0;32mimport\u001b[0m \u001b[0mpyomo\u001b[0m\u001b[0;34m.\u001b[0m\u001b[0menviron\u001b[0m\u001b[0;34m\u001b[0m\u001b[0m\n\u001b[1;32m      3\u001b[0m \u001b[0mopt\u001b[0m \u001b[0;34m=\u001b[0m \u001b[0mSolverFactory\u001b[0m\u001b[0;34m(\u001b[0m\u001b[0;34m\"cplex\"\u001b[0m\u001b[0;34m)\u001b[0m\u001b[0;34m\u001b[0m\u001b[0m\n\u001b[0;32m----> 4\u001b[0;31m \u001b[0mresults\u001b[0m \u001b[0;34m=\u001b[0m \u001b[0mopt\u001b[0m\u001b[0;34m.\u001b[0m\u001b[0msolve\u001b[0m\u001b[0;34m(\u001b[0m\u001b[0mmodel\u001b[0m\u001b[0;34m)\u001b[0m\u001b[0;34m\u001b[0m\u001b[0m\n\u001b[0m",
      "\u001b[0;32m~/anaconda3/lib/python3.6/site-packages/pyomo/opt/base/solvers.py\u001b[0m in \u001b[0;36msolve\u001b[0;34m(self, *args, **kwds)\u001b[0m\n\u001b[1;32m    536\u001b[0m         \u001b[0;34m\"\"\" Solve the problem \"\"\"\u001b[0m\u001b[0;34m\u001b[0m\u001b[0m\n\u001b[1;32m    537\u001b[0m \u001b[0;34m\u001b[0m\u001b[0m\n\u001b[0;32m--> 538\u001b[0;31m         \u001b[0mself\u001b[0m\u001b[0;34m.\u001b[0m\u001b[0mavailable\u001b[0m\u001b[0;34m(\u001b[0m\u001b[0mexception_flag\u001b[0m\u001b[0;34m=\u001b[0m\u001b[0;32mTrue\u001b[0m\u001b[0;34m)\u001b[0m\u001b[0;34m\u001b[0m\u001b[0m\n\u001b[0m\u001b[1;32m    539\u001b[0m         \u001b[0;31m#\u001b[0m\u001b[0;34m\u001b[0m\u001b[0;34m\u001b[0m\u001b[0m\n\u001b[1;32m    540\u001b[0m         \u001b[0;31m# If the inputs are models, then validate that they have been\u001b[0m\u001b[0;34m\u001b[0m\u001b[0;34m\u001b[0m\u001b[0m\n",
      "\u001b[0;32m~/anaconda3/lib/python3.6/site-packages/pyomo/opt/solver/ilmcmd.py\u001b[0m in \u001b[0;36mavailable\u001b[0;34m(self, exception_flag)\u001b[0m\n\u001b[1;32m     34\u001b[0m         \u001b[0;32mif\u001b[0m \u001b[0mself\u001b[0m\u001b[0;34m.\u001b[0m\u001b[0m_assert_available\u001b[0m\u001b[0;34m:\u001b[0m\u001b[0;34m\u001b[0m\u001b[0m\n\u001b[1;32m     35\u001b[0m             \u001b[0;32mreturn\u001b[0m \u001b[0;32mTrue\u001b[0m\u001b[0;34m\u001b[0m\u001b[0m\n\u001b[0;32m---> 36\u001b[0;31m         \u001b[0;32mif\u001b[0m \u001b[0;32mnot\u001b[0m \u001b[0mpyomo\u001b[0m\u001b[0;34m.\u001b[0m\u001b[0mopt\u001b[0m\u001b[0;34m.\u001b[0m\u001b[0msolver\u001b[0m\u001b[0;34m.\u001b[0m\u001b[0mshellcmd\u001b[0m\u001b[0;34m.\u001b[0m\u001b[0mSystemCallSolver\u001b[0m\u001b[0;34m.\u001b[0m\u001b[0mavailable\u001b[0m\u001b[0;34m(\u001b[0m\u001b[0mself\u001b[0m\u001b[0;34m,\u001b[0m \u001b[0mexception_flag\u001b[0m\u001b[0;34m)\u001b[0m\u001b[0;34m:\u001b[0m\u001b[0;34m\u001b[0m\u001b[0m\n\u001b[0m\u001b[1;32m     37\u001b[0m             \u001b[0;32mreturn\u001b[0m \u001b[0;32mFalse\u001b[0m\u001b[0;34m\u001b[0m\u001b[0m\n\u001b[1;32m     38\u001b[0m         \u001b[0mexecutable\u001b[0m \u001b[0;34m=\u001b[0m \u001b[0mpyutilib\u001b[0m\u001b[0;34m.\u001b[0m\u001b[0mservices\u001b[0m\u001b[0;34m.\u001b[0m\u001b[0mregistered_executable\u001b[0m\u001b[0;34m(\u001b[0m\u001b[0;34m\"ilmlist\"\u001b[0m\u001b[0;34m)\u001b[0m\u001b[0;34m\u001b[0m\u001b[0m\n",
      "\u001b[0;32m~/anaconda3/lib/python3.6/site-packages/pyomo/opt/solver/shellcmd.py\u001b[0m in \u001b[0;36mavailable\u001b[0;34m(self, exception_flag)\u001b[0m\n\u001b[1;32m    120\u001b[0m             \u001b[0;32mif\u001b[0m \u001b[0mexception_flag\u001b[0m\u001b[0;34m:\u001b[0m\u001b[0;34m\u001b[0m\u001b[0m\n\u001b[1;32m    121\u001b[0m                 \u001b[0mmsg\u001b[0m \u001b[0;34m=\u001b[0m \u001b[0;34m\"No executable found for solver '%s'\"\u001b[0m\u001b[0;34m\u001b[0m\u001b[0m\n\u001b[0;32m--> 122\u001b[0;31m                 \u001b[0;32mraise\u001b[0m \u001b[0mApplicationError\u001b[0m\u001b[0;34m(\u001b[0m\u001b[0mmsg\u001b[0m \u001b[0;34m%\u001b[0m \u001b[0mself\u001b[0m\u001b[0;34m.\u001b[0m\u001b[0mname\u001b[0m\u001b[0;34m)\u001b[0m\u001b[0;34m\u001b[0m\u001b[0m\n\u001b[0m\u001b[1;32m    123\u001b[0m             \u001b[0;32mreturn\u001b[0m \u001b[0;32mFalse\u001b[0m\u001b[0;34m\u001b[0m\u001b[0m\n\u001b[1;32m    124\u001b[0m         \u001b[0;32mreturn\u001b[0m \u001b[0;32mTrue\u001b[0m\u001b[0;34m\u001b[0m\u001b[0m\n",
      "\u001b[0;31mApplicationError\u001b[0m: No executable found for solver 'cplex'"
     ]
    }
   ],
   "source": [
    "from pyomo.opt import SolverFactory\n",
    "import pyomo.environ\n",
    "opt = SolverFactory(\"cplex\")\n",
    "results = opt.solve(model)"
   ]
  },
  {
   "cell_type": "code",
   "execution_count": 5,
   "metadata": {},
   "outputs": [
    {
     "name": "stdout",
     "output_type": "stream",
     "text": [
      "WARNING: \"[base]/site-packages/pyomo/opt/base/solvers.py\", 201, __solver_call__\n",
      "\tFailed to create solver with name 'cplex.sh':\n",
      "\tFailed to set executable for solver asl. File with name=cplex.sh either does not exist or it is not executable. To skip this validation, call set_executable with validate=False.\n"
     ]
    },
    {
     "ename": "NameError",
     "evalue": "name 'instance' is not defined",
     "output_type": "error",
     "traceback": [
      "\u001b[0;31m---------------------------------------------------------------------------\u001b[0m",
      "\u001b[0;31mNameError\u001b[0m                                 Traceback (most recent call last)",
      "\u001b[0;32m<ipython-input-5-45ae55311c45>\u001b[0m in \u001b[0;36m<module>\u001b[0;34m()\u001b[0m\n\u001b[1;32m      1\u001b[0m \u001b[0msolver\u001b[0m \u001b[0;34m=\u001b[0m \u001b[0mSolverFactory\u001b[0m\u001b[0;34m(\u001b[0m\u001b[0;34m'cplex.sh'\u001b[0m\u001b[0;34m)\u001b[0m\u001b[0;34m\u001b[0m\u001b[0m\n\u001b[1;32m      2\u001b[0m \u001b[0;34m\u001b[0m\u001b[0m\n\u001b[0;32m----> 3\u001b[0;31m \u001b[0mresults\u001b[0m \u001b[0;34m=\u001b[0m \u001b[0msolver\u001b[0m\u001b[0;34m.\u001b[0m\u001b[0msolve\u001b[0m\u001b[0;34m(\u001b[0m\u001b[0minstance\u001b[0m\u001b[0;34m,\u001b[0m \u001b[0mtee\u001b[0m\u001b[0;34m=\u001b[0m\u001b[0;32mTrue\u001b[0m\u001b[0;34m)\u001b[0m\u001b[0;34m\u001b[0m\u001b[0m\n\u001b[0m",
      "\u001b[0;31mNameError\u001b[0m: name 'instance' is not defined"
     ]
    }
   ],
   "source": [
    "solver = SolverFactory('cplex.sh')\n",
    "\n",
    "results = solver.solve(instance, tee=True)"
   ]
  },
  {
   "cell_type": "code",
   "execution_count": 12,
   "metadata": {},
   "outputs": [
    {
     "name": "stdout",
     "output_type": "stream",
     "text": [
      "WARNING: \"[base]/site-packages/pyomo/opt/base/solvers.py\", 201, __solver_call__\n",
      "\tFailed to create solver with name 'couenne':\n",
      "\tFailed to set executable for solver asl. File with name=./couenne either does not exist or it is not executable. To skip this validation, call set_executable with validate=False.\n"
     ]
    }
   ],
   "source": [
    "solver = SolverFactory('couenne', executable='./couenne')"
   ]
  },
  {
   "cell_type": "code",
   "execution_count": 8,
   "metadata": {},
   "outputs": [
    {
     "name": "stdout",
     "output_type": "stream",
     "text": [
      "WARNING: DEPRECATION WARNING: the Model.create() method is deprecated.  Call\n",
      "\tModel.create_instance() to create a concrete instance from an abstract\n",
      "\tmodel.  You do not need to call Model.create() for a concrete model.\n",
      "WARNING: DEPRECATION WARNING: Cannot call Model.create_instance() on a\n",
      "\tconstructed model; returning a clone of the current model instance.\n"
     ]
    },
    {
     "ename": "AttributeError",
     "evalue": "'ConcreteModel' object has no attribute 'y'",
     "output_type": "error",
     "traceback": [
      "\u001b[0;31m---------------------------------------------------------------------------\u001b[0m",
      "\u001b[0;31mAttributeError\u001b[0m                            Traceback (most recent call last)",
      "\u001b[0;32m<ipython-input-8-a25a2fbce40f>\u001b[0m in \u001b[0;36m<module>\u001b[0;34m()\u001b[0m\n\u001b[1;32m      1\u001b[0m \u001b[0minstance\u001b[0m \u001b[0;34m=\u001b[0m \u001b[0mmodel\u001b[0m\u001b[0;34m.\u001b[0m\u001b[0mcreate\u001b[0m\u001b[0;34m(\u001b[0m\u001b[0;34m)\u001b[0m\u001b[0;34m\u001b[0m\u001b[0m\n\u001b[0;32m----> 2\u001b[0;31m \u001b[0minstance\u001b[0m\u001b[0;34m.\u001b[0m\u001b[0my\u001b[0m\u001b[0;34m[\u001b[0m\u001b[0;36m0\u001b[0m\u001b[0;34m]\u001b[0m \u001b[0;34m=\u001b[0m \u001b[0;36m1\u001b[0m\u001b[0;34m\u001b[0m\u001b[0m\n\u001b[0m\u001b[1;32m      3\u001b[0m \u001b[0minstance\u001b[0m\u001b[0;34m.\u001b[0m\u001b[0my\u001b[0m\u001b[0;34m[\u001b[0m\u001b[0;36m1\u001b[0m\u001b[0;34m]\u001b[0m \u001b[0;34m=\u001b[0m \u001b[0;36m0\u001b[0m\u001b[0;34m\u001b[0m\u001b[0m\n\u001b[1;32m      4\u001b[0m \u001b[0;34m\u001b[0m\u001b[0m\n\u001b[1;32m      5\u001b[0m \u001b[0mopt\u001b[0m \u001b[0;34m=\u001b[0m \u001b[0mSolverFactory\u001b[0m\u001b[0;34m(\u001b[0m\u001b[0;34m\"cplex\"\u001b[0m\u001b[0;34m)\u001b[0m\u001b[0;34m\u001b[0m\u001b[0m\n",
      "\u001b[0;32m~/anaconda3/lib/python3.6/site-packages/pyomo/core/base/block.py\u001b[0m in \u001b[0;36m__getattr__\u001b[0;34m(self, val)\u001b[0m\n\u001b[1;32m    521\u001b[0m         \u001b[0;31m# throw the \"normal\" AttributeError\u001b[0m\u001b[0;34m\u001b[0m\u001b[0;34m\u001b[0m\u001b[0m\n\u001b[1;32m    522\u001b[0m         raise AttributeError(\"'%s' object has no attribute '%s'\"\n\u001b[0;32m--> 523\u001b[0;31m                              % (self.__class__.__name__, val))\n\u001b[0m\u001b[1;32m    524\u001b[0m \u001b[0;34m\u001b[0m\u001b[0m\n\u001b[1;32m    525\u001b[0m     \u001b[0;32mdef\u001b[0m \u001b[0m__setattr__\u001b[0m\u001b[0;34m(\u001b[0m\u001b[0mself\u001b[0m\u001b[0;34m,\u001b[0m \u001b[0mname\u001b[0m\u001b[0;34m,\u001b[0m \u001b[0mval\u001b[0m\u001b[0;34m)\u001b[0m\u001b[0;34m:\u001b[0m\u001b[0;34m\u001b[0m\u001b[0m\n",
      "\u001b[0;31mAttributeError\u001b[0m: 'ConcreteModel' object has no attribute 'y'"
     ]
    }
   ],
   "source": [
    "instance = model.create()\n",
    "instance.y[0] = 1\n",
    "instance.y[1] = 0\n",
    "\n",
    "opt = SolverFactory(\"cplex\")\n",
    "\n",
    "results = opt.solve(instance, warmstart=True)"
   ]
  },
  {
   "cell_type": "code",
   "execution_count": 6,
   "metadata": {
    "collapsed": true
   },
   "outputs": [],
   "source": [
    "import os"
   ]
  },
  {
   "cell_type": "code",
   "execution_count": 8,
   "metadata": {},
   "outputs": [
    {
     "name": "stdout",
     "output_type": "stream",
     "text": [
      "/Users/yerin/anaconda3/bin:/Users/yerin/anaconda3/bin:/usr/local/bin:/usr/bin:/bin:/usr/sbin:/sbin:/Library/TeX/texbin\n"
     ]
    }
   ],
   "source": [
    "print(os.environ['PATH'])"
   ]
  },
  {
   "cell_type": "code",
   "execution_count": null,
   "metadata": {
    "collapsed": true
   },
   "outputs": [],
   "source": []
  }
 ],
 "metadata": {
  "kernelspec": {
   "display_name": "Python 3",
   "language": "python",
   "name": "python3"
  },
  "language_info": {
   "codemirror_mode": {
    "name": "ipython",
    "version": 3
   },
   "file_extension": ".py",
   "mimetype": "text/x-python",
   "name": "python",
   "nbconvert_exporter": "python",
   "pygments_lexer": "ipython3",
   "version": "3.6.3"
  }
 },
 "nbformat": 4,
 "nbformat_minor": 2
}
